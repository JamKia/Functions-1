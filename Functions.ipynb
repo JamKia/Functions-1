{
  "nbformat": 4,
  "nbformat_minor": 0,
  "metadata": {
    "colab": {
      "name": "Functions.ipynb",
      "provenance": [],
      "collapsed_sections": [],
      "include_colab_link": true
    },
    "kernelspec": {
      "name": "python3",
      "display_name": "Python 3"
    }
  },
  "cells": [
    {
      "cell_type": "markdown",
      "metadata": {
        "id": "view-in-github",
        "colab_type": "text"
      },
      "source": [
        "<a href=\"https://colab.research.google.com/github/JamKia/Functions-1/blob/main/Functions.ipynb\" target=\"_parent\"><img src=\"https://colab.research.google.com/assets/colab-badge.svg\" alt=\"Open In Colab\"/></a>"
      ]
    },
    {
      "metadata": {
        "id": "LJ2y3FCCSi19"
      },
      "cell_type": "code",
      "source": [
        "def greet(name):\n",
        "\t\"\"\"This function greets to\n",
        "\tthe person passed in as\n",
        "\tparameter\"\"\"\n",
        "\tprint(\"Hello, \" + name + \". Good morning!\")"
      ],
      "execution_count": null,
      "outputs": []
    },
    {
      "metadata": {
        "id": "jrfFtOI6StDe",
        "outputId": "5ff0883d-ad2c-48fd-95cd-90d05503ed24",
        "colab": {
          "base_uri": "https://localhost:8080/",
          "height": 52
        }
      },
      "cell_type": "code",
      "source": [
        "greet('Jamshid')\n",
        "greet.__doc__"
      ],
      "execution_count": null,
      "outputs": [
        {
          "output_type": "stream",
          "text": [
            "Hello, Jamshid. Good morning!\n"
          ],
          "name": "stdout"
        },
        {
          "output_type": "execute_result",
          "data": {
            "text/plain": [
              "'This function greets to\\n\\tthe person passed in as\\n\\tparameter'"
            ]
          },
          "metadata": {
            "tags": []
          },
          "execution_count": 7
        }
      ]
    },
    {
      "metadata": {
        "id": "8K2pDcnxSyIA",
        "outputId": "f9b6f22c-7d1b-4067-ab06-4bf9467de51b",
        "colab": {
          "base_uri": "https://localhost:8080/",
          "height": 69
        }
      },
      "cell_type": "code",
      "source": [
        "# Although they have same names,\n",
        "# they are two different variables with different scope.\n",
        "def my_func1():\n",
        "\tx = 10\n",
        "\tprint(\"Value inside function:\",x)\n",
        "  \n",
        "def my_func2():\n",
        "\t#x = 10\n",
        "\tprint(\"Value inside function:\",x)\n",
        "\n",
        "x = 20\n",
        "my_func1()\n",
        "\n",
        "# On the other hand, variables outside of the function\n",
        "# are visible from inside. They have a global scope.\n",
        "\n",
        "my_func2()\n",
        "print(\"Value outside function:\",x)\n",
        "\n",
        "# We can read these values from inside the function\n",
        "# but cannot change (write) them. In order to modify \n",
        "# the value of variables outside the function, \n",
        "# they must be declared as global variables using the keyword global."
      ],
      "execution_count": null,
      "outputs": [
        {
          "output_type": "stream",
          "text": [
            "Value inside function: 10\n",
            "Value inside function: 20\n",
            "Value outside function: 20\n"
          ],
          "name": "stdout"
        }
      ]
    },
    {
      "metadata": {
        "id": "PvIbGqh4Tdo4",
        "outputId": "b74d5cf9-ace5-462c-da25-6d3f5e328670",
        "colab": {
          "base_uri": "https://localhost:8080/",
          "height": 52
        }
      },
      "cell_type": "code",
      "source": [
        "def greet(name, msg = \"Good morning!\"):\n",
        "   \"\"\"\n",
        "   This function greets to\n",
        "   the person with the\n",
        "   provided message.\n",
        "\n",
        "   If message is not provided,\n",
        "   it defaults to \"Good\n",
        "   morning!\"\n",
        "   \"\"\"\n",
        "   print(\"Hello\",name + ', ' + msg)\n",
        "\n",
        "greet(\"JAmshid\")\n",
        "greet(\"Arash\",\"How do you do?\")\n",
        "\n",
        "# ny number of arguments in a function can have a default value. But once we have a default argument, all the arguments to its right must also have default values.\n",
        "\n",
        "# This means to say, non-default arguments cannot follow default arguments."
      ],
      "execution_count": null,
      "outputs": [
        {
          "output_type": "stream",
          "text": [
            "Hello JAmshid, Good morning!\n",
            "Hello Arash, How do you do?\n"
          ],
          "name": "stdout"
        }
      ]
    },
    {
      "metadata": {
        "id": "oCJ0suJCVdBu",
        "outputId": "c608184b-bfa0-4b22-8c87-41be69f932a5",
        "colab": {
          "base_uri": "https://localhost:8080/",
          "height": 86
        }
      },
      "cell_type": "code",
      "source": [
        "# Sometimes, we do not know in advance the number of arguments that will\n",
        "# be passed into a function.Python allows us to handle this kind of situation through function calls with arbitrary number of arguments.\n",
        "\n",
        "def greet(*names):\n",
        "   \"\"\"This function greets all\n",
        "   the person in the names tuple.\"\"\"\n",
        "\n",
        "   # names is a tuple with arguments\n",
        "   for name in names:\n",
        "       print(\"Hello\",name)\n",
        "\n",
        "greet(\"Jamshid\",\"Arash\",\"Ardalan\",\"Kia\")"
      ],
      "execution_count": null,
      "outputs": [
        {
          "output_type": "stream",
          "text": [
            "Hello Jamshid\n",
            "Hello Arash\n",
            "Hello Ardalan\n",
            "Hello Kia\n"
          ],
          "name": "stdout"
        }
      ]
    },
    {
      "metadata": {
        "id": "v-DIPfoIX2EE",
        "outputId": "5a06bfa9-3f61-4c24-e8f0-857f86ada03e",
        "colab": {
          "base_uri": "https://localhost:8080/",
          "height": 34
        }
      },
      "cell_type": "code",
      "source": [
        "# An example of a recursive function to\n",
        "# find the factorial of a number\n",
        "\n",
        "def calc_factorial(x):\n",
        "    \"\"\"This is a recursive function\n",
        "    to find the factorial of an integer\"\"\"\n",
        "\n",
        "    if x == 1:\n",
        "        return 1\n",
        "    else:\n",
        "        return (x * calc_factorial(x-1))\n",
        "\n",
        "num = 4\n",
        "print(\"The factorial of\", num, \"is\", calc_factorial(num))\t"
      ],
      "execution_count": null,
      "outputs": [
        {
          "output_type": "stream",
          "text": [
            "The factorial of 4 is 24\n"
          ],
          "name": "stdout"
        }
      ]
    },
    {
      "metadata": {
        "id": "Mn9nm_RtX2wc",
        "outputId": "af5a8b5c-8ea6-4318-9ff6-379abffa0778",
        "colab": {
          "base_uri": "https://localhost:8080/",
          "height": 52
        }
      },
      "cell_type": "code",
      "source": [
        "# In Python, anonymous function is a function that is defined without a name.\n",
        "\n",
        "# While normal functions are defined using the def keyword, in Python anonymous\n",
        "# functions are defined using the lambda keyword.\n",
        "\n",
        "# Syntax of Lambda Function in python:\n",
        "# lambda arguments: expression\n",
        "\n",
        "double = lambda x: x * 2\n",
        "print('double:',double(5))\n",
        "\n",
        "cubed= lambda y: y**3\n",
        "print('cube:', cubed(3))\n"
      ],
      "execution_count": null,
      "outputs": [
        {
          "output_type": "stream",
          "text": [
            "double: 10\n",
            "cube: 27\n"
          ],
          "name": "stdout"
        }
      ]
    },
    {
      "metadata": {
        "id": "4WIpEzgebg76",
        "outputId": "5b9fe610-f75b-4f82-9706-767ac7294b0e",
        "colab": {
          "base_uri": "https://localhost:8080/",
          "height": 121
        }
      },
      "cell_type": "code",
      "source": [
        "# Lambda functions are used along with built-in functions \n",
        "# like filter(), map(), reduce\n",
        "\n",
        "my_list = [1, 5, 4, 6, 8, 11, 3, 12]\n",
        "new_list = list(filter(lambda x: (x%2 != 0) , my_list))\n",
        "print(new_list)\n",
        "# ---------------------\n",
        "my_list = [1, 5, 4, 6, 8, 11, 3, 12]\n",
        "new_list = list(map(lambda x: x * 2 , my_list))\n",
        "print(new_list)\n",
        "# ---------------------\n",
        "remainder = lambda num: num % 2\n",
        "print(remainder(5))\n",
        "# ---------------------\n",
        "product = lambda x, y : x * y\n",
        "print(product(2, 3)) \n",
        "# ---------------------\n",
        "# we have a function that takes one argument,\n",
        "# and the argument is to be multiplied with a number that is unknown. \n",
        "\n",
        "def testfunc(num):  \n",
        "    return lambda x : x * num\n",
        "\n",
        "result1 = testfunc(10)\n",
        "result2 = testfunc(1000)\n",
        "print(result1(9))\n",
        "print(result2(9))  "
      ],
      "execution_count": null,
      "outputs": [
        {
          "output_type": "stream",
          "text": [
            "[1, 5, 11, 3]\n",
            "[2, 10, 8, 12, 16, 22, 6, 24]\n",
            "1\n",
            "6\n",
            "90\n",
            "9000\n"
          ],
          "name": "stdout"
        }
      ]
    },
    {
      "metadata": {
        "id": "vU5uX7LHhnAk",
        "outputId": "54bdcbe8-49d9-4d29-aba7-3f0e1e99f5a5",
        "colab": {
          "base_uri": "https://localhost:8080/",
          "height": 34
        }
      },
      "cell_type": "code",
      "source": [
        "# filter(object, iterable)\n",
        " # The object here should be a lambda function which returns \n",
        " # a boolean value. The object will be called for every item \n",
        " # in the iterable to do the evaluation. The result is either a True or a False for every item.\n",
        " # Note that the function can only take one iterable as the input. \n",
        "\n",
        "numbers_list = [2, 6, 8, 10, 11, 4, 12, 7, 13, 17, 0, 3, 21]\n",
        "filtered_list = list(filter(lambda num: (num < 7), numbers_list))\n",
        "print(filtered_list)  "
      ],
      "execution_count": null,
      "outputs": [
        {
          "output_type": "stream",
          "text": [
            "[2, 6, 4, 0, 3]\n"
          ],
          "name": "stdout"
        }
      ]
    },
    {
      "metadata": {
        "id": "MDPj8O56ot0w",
        "outputId": "5e22f5bb-2207-4883-eacf-e1662a35fc42",
        "colab": {
          "base_uri": "https://localhost:8080/",
          "height": 34
        }
      },
      "cell_type": "code",
      "source": [
        "# map(object, iterable_1, iterable_2, ...)\n",
        " # The iterable to the map() function can be\n",
        " # a dictionary, a list, etc. \n",
        " # The map() function basically maps every item\n",
        " # in the input iterable to the corresponding item\n",
        " # in the output iterable, according to the logic defined\n",
        " # by the lambda function.\n",
        "\n",
        "numbers_list = [2, 6, 8, 10, 11, 4, 12, 7, 13, 17, 0, 3, 21]\n",
        "mapped_list = list(map(lambda num: num % 2, numbers_list))\n",
        "print(mapped_list) "
      ],
      "execution_count": null,
      "outputs": [
        {
          "output_type": "stream",
          "text": [
            "[0, 0, 0, 0, 1, 0, 0, 1, 1, 1, 0, 1, 1]\n"
          ],
          "name": "stdout"
        }
      ]
    },
    {
      "metadata": {
        "id": "oC8AthKppYHG",
        "outputId": "d674f3a8-3f65-400e-f793-09606dde9a8c",
        "colab": {
          "base_uri": "https://localhost:8080/",
          "height": 34
        }
      },
      "cell_type": "code",
      "source": [
        "# Create the test data\n",
        "myList = list(range(1, 11))\n",
        "# Create our 'evenOdd()' function\n",
        "def evenOdd(num) :\n",
        "     if num % 2 == 0:\n",
        "             return'Even'\n",
        "     return 'Odd'\n",
        "\n",
        "# Use them in 'map()' function\n",
        "result=list(map(evenOdd, myList))\n",
        "print(result)\n"
      ],
      "execution_count": null,
      "outputs": [
        {
          "output_type": "stream",
          "text": [
            "['Odd', 'Even', 'Odd', 'Even', 'Odd', 'Even', 'Odd', 'Even', 'Odd', 'Even']\n"
          ],
          "name": "stdout"
        }
      ]
    },
    {
      "metadata": {
        "id": "6Vs2sJXHrsGD",
        "outputId": "27ce5613-717f-47b2-e735-d2bcb78e06c0",
        "colab": {
          "base_uri": "https://localhost:8080/",
          "height": 260
        }
      },
      "cell_type": "code",
      "source": [
        "import pandas as pd\n",
        "df=pd.DataFrame()\n",
        "# lambda function as the argument\n",
        "the_list=list(range(1,11))\n",
        "result1=list(map(lambda num : 'Yes' if (num%2 ==0) & (num % 5 == 0) else 'No', the_list))\n",
        "result2=list(map(lambda num : 'Yes' if (num % 5 == 0) else 'No', the_list))\n",
        "result3=list(zip(the_list,result2))\n",
        "df['tuples']=pd.Series(list(zip(the_list,result2)))\n",
        "print(result1)\n",
        "print(result2)\n",
        "print(result3)\n",
        "print(df)"
      ],
      "execution_count": null,
      "outputs": [
        {
          "output_type": "stream",
          "text": [
            "['No', 'No', 'No', 'No', 'No', 'No', 'No', 'No', 'No', 'Yes']\n",
            "['No', 'No', 'No', 'No', 'Yes', 'No', 'No', 'No', 'No', 'Yes']\n",
            "[(1, 'No'), (2, 'No'), (3, 'No'), (4, 'No'), (5, 'Yes'), (6, 'No'), (7, 'No'), (8, 'No'), (9, 'No'), (10, 'Yes')]\n",
            "      tuples\n",
            "0    (1, No)\n",
            "1    (2, No)\n",
            "2    (3, No)\n",
            "3    (4, No)\n",
            "4   (5, Yes)\n",
            "5    (6, No)\n",
            "6    (7, No)\n",
            "7    (8, No)\n",
            "8    (9, No)\n",
            "9  (10, Yes)\n"
          ],
          "name": "stdout"
        }
      ]
    },
    {
      "metadata": {
        "id": "dCFuPWNEsYBD",
        "outputId": "e5807f40-f10f-453b-a547-2b042a0ac5be",
        "colab": {
          "base_uri": "https://localhost:8080/",
          "height": 192
        }
      },
      "cell_type": "code",
      "source": [
        "# We create three lists\n",
        "numList = [1, 2, 3, 4,5,6,7]\n",
        "strList = ['One', 'Two', 'Three', 'Four']\n",
        "rankList = ['1st', '2nd', '3rd', '4th','5th']\n",
        "\n",
        "# lambda function that returns a tuple of it's arguments\n",
        "lambda x, y, z : (x, y, z)\n",
        "\n",
        "# Using them in 'map()' function\n",
        "print(list(map(lambda x, y, z : (x, y, z), numList, strList, rankList)))\n",
        "pd.DataFrame.from_records(map(lambda x, y, z : (x, y, z), numList, strList, rankList))"
      ],
      "execution_count": null,
      "outputs": [
        {
          "output_type": "stream",
          "text": [
            "[(1, 'One', '1st'), (2, 'Two', '2nd'), (3, 'Three', '3rd'), (4, 'Four', '4th')]\n"
          ],
          "name": "stdout"
        },
        {
          "output_type": "execute_result",
          "data": {
            "text/html": [
              "<div>\n",
              "<style scoped>\n",
              "    .dataframe tbody tr th:only-of-type {\n",
              "        vertical-align: middle;\n",
              "    }\n",
              "\n",
              "    .dataframe tbody tr th {\n",
              "        vertical-align: top;\n",
              "    }\n",
              "\n",
              "    .dataframe thead th {\n",
              "        text-align: right;\n",
              "    }\n",
              "</style>\n",
              "<table border=\"1\" class=\"dataframe\">\n",
              "  <thead>\n",
              "    <tr style=\"text-align: right;\">\n",
              "      <th></th>\n",
              "      <th>0</th>\n",
              "      <th>1</th>\n",
              "      <th>2</th>\n",
              "    </tr>\n",
              "  </thead>\n",
              "  <tbody>\n",
              "    <tr>\n",
              "      <th>0</th>\n",
              "      <td>1</td>\n",
              "      <td>One</td>\n",
              "      <td>1st</td>\n",
              "    </tr>\n",
              "    <tr>\n",
              "      <th>1</th>\n",
              "      <td>2</td>\n",
              "      <td>Two</td>\n",
              "      <td>2nd</td>\n",
              "    </tr>\n",
              "    <tr>\n",
              "      <th>2</th>\n",
              "      <td>3</td>\n",
              "      <td>Three</td>\n",
              "      <td>3rd</td>\n",
              "    </tr>\n",
              "    <tr>\n",
              "      <th>3</th>\n",
              "      <td>4</td>\n",
              "      <td>Four</td>\n",
              "      <td>4th</td>\n",
              "    </tr>\n",
              "  </tbody>\n",
              "</table>\n",
              "</div>"
            ],
            "text/plain": [
              "   0      1    2\n",
              "0  1    One  1st\n",
              "1  2    Two  2nd\n",
              "2  3  Three  3rd\n",
              "3  4   Four  4th"
            ]
          },
          "metadata": {
            "tags": []
          },
          "execution_count": 80
        }
      ]
    },
    {
      "metadata": {
        "id": "LzKAvig-xMUv",
        "outputId": "0d8048af-ec3e-40e1-bf32-6df34da2a0f8",
        "colab": {
          "base_uri": "https://localhost:8080/",
          "height": 89
        }
      },
      "cell_type": "code",
      "source": [
        "# Create a list of numbers\n",
        "myList = range(1,11)\n",
        "print(myList)\n",
        "\n",
        "# Import 'math' module\n",
        "import math\n",
        "\n",
        "# First 'map()' function calculate square root of each number\n",
        "print(list(map(math.sqrt, myList)))\n",
        "[1.0, 1.4142135623730951, 1.7320508075688772, 2.0, 2.23606797749979, 2.449489742783178, 2.6457513110645907, 2.8284271247461903, 3.0, 3.1622776601683795]\n",
        "\n",
        "# Second 'map()' function will covert float to integer using 'int()' function\n",
        "print(  list(map(int, map(math.sqrt, myList) ))   )"
      ],
      "execution_count": null,
      "outputs": [
        {
          "output_type": "stream",
          "text": [
            "range(1, 11)\n",
            "[1.0, 1.4142135623730951, 1.7320508075688772, 2.0, 2.23606797749979, 2.449489742783178, 2.6457513110645907, 2.8284271247461903, 3.0, 3.1622776601683795]\n",
            "[1, 1, 1, 2, 2, 2, 2, 2, 3, 3]\n"
          ],
          "name": "stdout"
        }
      ]
    },
    {
      "metadata": {
        "id": "DyS0BM1glQQI",
        "outputId": "defb961a-a428-4fa3-b18e-70b241742a72",
        "colab": {
          "base_uri": "https://localhost:8080/",
          "height": 52
        }
      },
      "cell_type": "code",
      "source": [
        "# lambda function to welcome a user, with default value\n",
        "welcome = lambda user=\"Whosoever you are\" : 'Welcome, ' + user + ' !!'\n",
        "\n",
        "# This will take the default value and a rude welcome\n",
        "print(welcome())\n",
        "\n",
        "# This will override the default value\n",
        "welcome('Mandar')\n"
      ],
      "execution_count": null,
      "outputs": [
        {
          "output_type": "stream",
          "text": [
            "Welcome, Whosoever you are !!\n"
          ],
          "name": "stdout"
        },
        {
          "output_type": "execute_result",
          "data": {
            "text/plain": [
              "'Welcome, Mandar !!'"
            ]
          },
          "metadata": {
            "tags": []
          },
          "execution_count": 2
        }
      ]
    },
    {
      "metadata": {
        "id": "iSKgETAElVOL",
        "outputId": "25726df2-c5c5-4878-f764-f8f29f112d4d",
        "colab": {
          "base_uri": "https://localhost:8080/",
          "height": 104
        }
      },
      "cell_type": "code",
      "source": [
        "# use lambdas in lists and dictionaries in order to\n",
        " # choose between several actions to be performed.\n",
        "\n",
        "functions_dict = {'power' : lambda x, y: x**y,\n",
        "                  'tenTimes' : lambda x : 10 * x,\n",
        "                  'sqrt' : lambda x : x ** 0.5,\n",
        "                  'int' : lambda x : int(x) }\n",
        "\n",
        "print(  type(functions_dict['tenTimes'])  )\n",
        "\n",
        "print(  functions_dict['power'](10, 2)  )\n",
        "\n",
        "print(  functions_dict['tenTimes'](20)  )\n",
        "\n",
        "print(  functions_dict['sqrt'](224)  )\n",
        "\n",
        "print(  functions_dict['int'](91.3452342)  )\n"
      ],
      "execution_count": null,
      "outputs": [
        {
          "output_type": "stream",
          "text": [
            "<class 'function'>\n",
            "100\n",
            "200\n",
            "14.966629547095765\n",
            "91\n"
          ],
          "name": "stdout"
        }
      ]
    },
    {
      "metadata": {
        "id": "4JVq9APon7tL",
        "outputId": "aa3c938d-07c1-4b96-b3a5-806cdfee1062",
        "colab": {
          "base_uri": "https://localhost:8080/",
          "height": 86
        }
      },
      "cell_type": "code",
      "source": [
        "funcList = [ lambda x, y: x**y,\n",
        "            lambda x : 10 * x,\n",
        "            lambda x : x ** 0.5 ]\n",
        "\n",
        "print(type(funcList[1]))\n",
        "\n",
        "# # Power\n",
        "print(funcList[0](6, 3) )\n",
        "\n",
        "# # 'tenTimes'\n",
        "print( funcList[1](12) )\n",
        "\n",
        "# # 'sqrt'\n",
        "print(funcList[2](124))\n"
      ],
      "execution_count": null,
      "outputs": [
        {
          "output_type": "stream",
          "text": [
            "<class 'function'>\n",
            "216\n",
            "120\n",
            "11.135528725660043\n"
          ],
          "name": "stdout"
        }
      ]
    },
    {
      "metadata": {
        "id": "nG_4v05NpWsv",
        "outputId": "caba79de-e50b-4d1b-dd27-a2ad3022dae3",
        "colab": {
          "base_uri": "https://localhost:8080/",
          "height": 392
        }
      },
      "cell_type": "code",
      "source": [
        "# global vs. local variable\n",
        "\n",
        "\n",
        "c = 1 # global variable\n",
        "    \n",
        "def add1():\n",
        "    c = 2 # increment c by 2\n",
        "    print(\"c is:\\n \\t \\t>>>>>>>>>>>>>\",c)\n",
        "\n",
        "add1()\n",
        "\n",
        "def add2():\n",
        "    c = c + 2 # increment c by 2\n",
        "    print(\"c is:\\n \\t \\t>>>>>>>>>>>>>\",c)\n",
        "\n",
        "add2()\n",
        "# UnboundLocalError: local variable 'c' referenced before assignment\n",
        "\n",
        "# This is because we can only access the global variable but \n",
        "# cannot modify it from inside the function.\n",
        "\n",
        "# The solution for this is to use the global keyword."
      ],
      "execution_count": null,
      "outputs": [
        {
          "output_type": "stream",
          "text": [
            "c is:\n",
            " \t \t>>>>>>>>>>>>> 2\n"
          ],
          "name": "stdout"
        },
        {
          "output_type": "error",
          "ename": "UnboundLocalError",
          "evalue": "ignored",
          "traceback": [
            "\u001b[0;31m---------------------------------------------------------------------------\u001b[0m",
            "\u001b[0;31mUnboundLocalError\u001b[0m                         Traceback (most recent call last)",
            "\u001b[0;32m<ipython-input-36-3e37fc2a978a>\u001b[0m in \u001b[0;36m<module>\u001b[0;34m()\u001b[0m\n\u001b[1;32m     13\u001b[0m     \u001b[0mprint\u001b[0m\u001b[0;34m(\u001b[0m\u001b[0;34m\"c is:\\n \\t \\t>>>>>>>>>>>>>\"\u001b[0m\u001b[0;34m,\u001b[0m\u001b[0mc\u001b[0m\u001b[0;34m)\u001b[0m\u001b[0;34m\u001b[0m\u001b[0;34m\u001b[0m\u001b[0m\n\u001b[1;32m     14\u001b[0m \u001b[0;34m\u001b[0m\u001b[0m\n\u001b[0;32m---> 15\u001b[0;31m \u001b[0madd2\u001b[0m\u001b[0;34m(\u001b[0m\u001b[0;34m)\u001b[0m\u001b[0;34m\u001b[0m\u001b[0;34m\u001b[0m\u001b[0m\n\u001b[0m\u001b[1;32m     16\u001b[0m \u001b[0;31m# UnboundLocalError: local variable 'c' referenced before assignment\u001b[0m\u001b[0;34m\u001b[0m\u001b[0;34m\u001b[0m\u001b[0;34m\u001b[0m\u001b[0m\n\u001b[1;32m     17\u001b[0m \u001b[0;34m\u001b[0m\u001b[0m\n",
            "\u001b[0;32m<ipython-input-36-3e37fc2a978a>\u001b[0m in \u001b[0;36madd2\u001b[0;34m()\u001b[0m\n\u001b[1;32m     10\u001b[0m \u001b[0;34m\u001b[0m\u001b[0m\n\u001b[1;32m     11\u001b[0m \u001b[0;32mdef\u001b[0m \u001b[0madd2\u001b[0m\u001b[0;34m(\u001b[0m\u001b[0;34m)\u001b[0m\u001b[0;34m:\u001b[0m\u001b[0;34m\u001b[0m\u001b[0;34m\u001b[0m\u001b[0m\n\u001b[0;32m---> 12\u001b[0;31m     \u001b[0mc\u001b[0m \u001b[0;34m=\u001b[0m \u001b[0mc\u001b[0m \u001b[0;34m+\u001b[0m \u001b[0;36m2\u001b[0m \u001b[0;31m# increment c by 2\u001b[0m\u001b[0;34m\u001b[0m\u001b[0;34m\u001b[0m\u001b[0m\n\u001b[0m\u001b[1;32m     13\u001b[0m     \u001b[0mprint\u001b[0m\u001b[0;34m(\u001b[0m\u001b[0;34m\"c is:\\n \\t \\t>>>>>>>>>>>>>\"\u001b[0m\u001b[0;34m,\u001b[0m\u001b[0mc\u001b[0m\u001b[0;34m)\u001b[0m\u001b[0;34m\u001b[0m\u001b[0;34m\u001b[0m\u001b[0m\n\u001b[1;32m     14\u001b[0m \u001b[0;34m\u001b[0m\u001b[0m\n",
            "\u001b[0;31mUnboundLocalError\u001b[0m: local variable 'c' referenced before assignment"
          ]
        }
      ]
    },
    {
      "metadata": {
        "id": "7LDJMHdzs8gC",
        "outputId": "70977e1c-15e5-487c-e9c4-e2cf8070f46e",
        "colab": {
          "base_uri": "https://localhost:8080/",
          "height": 52
        }
      },
      "cell_type": "code",
      "source": [
        "c = 0 # global variable\n",
        "\n",
        "def add():\n",
        "    global c\n",
        "    c = c + 2 # increment by 2\n",
        "    print(\"Inside add():\", c)\n",
        "\n",
        "add()\n",
        "print(\"In main:\", c)"
      ],
      "execution_count": null,
      "outputs": [
        {
          "output_type": "stream",
          "text": [
            "Inside add(): 2\n",
            "In main: 2\n"
          ],
          "name": "stdout"
        }
      ]
    },
    {
      "metadata": {
        "id": "yTn8egmdtL75"
      },
      "cell_type": "code",
      "source": [
        ""
      ],
      "execution_count": null,
      "outputs": []
    }
  ]
}